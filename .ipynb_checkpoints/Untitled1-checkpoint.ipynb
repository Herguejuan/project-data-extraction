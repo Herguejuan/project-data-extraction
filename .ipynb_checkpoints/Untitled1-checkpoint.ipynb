{
 "cells": [
  {
   "cell_type": "code",
   "execution_count": 2,
   "metadata": {},
   "outputs": [],
   "source": [
    "import json\n",
    "import requests\n",
    "import pandas as pd\n",
    "from pandas.io.json import json_normalize\n",
    "from urllib.request import urlopen"
   ]
  },
  {
   "cell_type": "code",
   "execution_count": 48,
   "metadata": {},
   "outputs": [],
   "source": [
    "import numpy as np"
   ]
  },
  {
   "cell_type": "code",
   "execution_count": null,
   "metadata": {},
   "outputs": [],
   "source": [
    "url = 'https://www.zalando.fr/api/catalog/articles?categories=promo-homme&limit=84&offset=60'"
   ]
  },
  {
   "cell_type": "code",
   "execution_count": 10,
   "metadata": {},
   "outputs": [
    {
     "name": "stderr",
     "output_type": "stream",
     "text": [
      "<ipython-input-10-85c8f2e8ab62>:9: FutureWarning: pandas.io.json.json_normalize is deprecated, use pandas.json_normalize instead\n",
      "  flattened_data = json_normalize(results)\n"
     ]
    }
   ],
   "source": [
    "df=pd.DataFrame()\n",
    "\n",
    "\n",
    "url = 'https://pokeapi.co/api/v2/pokemon/1/'\n",
    "response = requests.get(url)\n",
    "results = response.json()\n",
    "    \n",
    "    \n",
    "flattened_data = json_normalize(results)\n",
    "    #flattened_data1 = json_normalize(flattened_data.articles[0])\n",
    "    #flattened_data1=flattened_data1.set_index('sku')\n",
    "df = df.append(flattened_data)"
   ]
  },
  {
   "cell_type": "code",
   "execution_count": 11,
   "metadata": {},
   "outputs": [
    {
     "data": {
      "text/html": [
       "<div>\n",
       "<style scoped>\n",
       "    .dataframe tbody tr th:only-of-type {\n",
       "        vertical-align: middle;\n",
       "    }\n",
       "\n",
       "    .dataframe tbody tr th {\n",
       "        vertical-align: top;\n",
       "    }\n",
       "\n",
       "    .dataframe thead th {\n",
       "        text-align: right;\n",
       "    }\n",
       "</style>\n",
       "<table border=\"1\" class=\"dataframe\">\n",
       "  <thead>\n",
       "    <tr style=\"text-align: right;\">\n",
       "      <th></th>\n",
       "      <th>abilities</th>\n",
       "      <th>base_experience</th>\n",
       "      <th>forms</th>\n",
       "      <th>game_indices</th>\n",
       "      <th>height</th>\n",
       "      <th>held_items</th>\n",
       "      <th>id</th>\n",
       "      <th>is_default</th>\n",
       "      <th>location_area_encounters</th>\n",
       "      <th>moves</th>\n",
       "      <th>...</th>\n",
       "      <th>sprites.versions.generation-vi.x-y.front_shiny</th>\n",
       "      <th>sprites.versions.generation-vi.x-y.front_shiny_female</th>\n",
       "      <th>sprites.versions.generation-vii.icons.front_default</th>\n",
       "      <th>sprites.versions.generation-vii.icons.front_female</th>\n",
       "      <th>sprites.versions.generation-vii.ultra-sun-ultra-moon.front_default</th>\n",
       "      <th>sprites.versions.generation-vii.ultra-sun-ultra-moon.front_female</th>\n",
       "      <th>sprites.versions.generation-vii.ultra-sun-ultra-moon.front_shiny</th>\n",
       "      <th>sprites.versions.generation-vii.ultra-sun-ultra-moon.front_shiny_female</th>\n",
       "      <th>sprites.versions.generation-viii.icons.front_default</th>\n",
       "      <th>sprites.versions.generation-viii.icons.front_female</th>\n",
       "    </tr>\n",
       "  </thead>\n",
       "  <tbody>\n",
       "    <tr>\n",
       "      <th>0</th>\n",
       "      <td>[{'ability': {'name': 'overgrow', 'url': 'http...</td>\n",
       "      <td>64</td>\n",
       "      <td>[{'name': 'bulbasaur', 'url': 'https://pokeapi...</td>\n",
       "      <td>[{'game_index': 153, 'version': {'name': 'red'...</td>\n",
       "      <td>7</td>\n",
       "      <td>[]</td>\n",
       "      <td>1</td>\n",
       "      <td>True</td>\n",
       "      <td>https://pokeapi.co/api/v2/pokemon/1/encounters</td>\n",
       "      <td>[{'move': {'name': 'razor-wind', 'url': 'https...</td>\n",
       "      <td>...</td>\n",
       "      <td>https://raw.githubusercontent.com/PokeAPI/spri...</td>\n",
       "      <td>None</td>\n",
       "      <td>https://raw.githubusercontent.com/PokeAPI/spri...</td>\n",
       "      <td>None</td>\n",
       "      <td>https://raw.githubusercontent.com/PokeAPI/spri...</td>\n",
       "      <td>None</td>\n",
       "      <td>https://raw.githubusercontent.com/PokeAPI/spri...</td>\n",
       "      <td>None</td>\n",
       "      <td>https://raw.githubusercontent.com/PokeAPI/spri...</td>\n",
       "      <td>None</td>\n",
       "    </tr>\n",
       "  </tbody>\n",
       "</table>\n",
       "<p>1 rows × 115 columns</p>\n",
       "</div>"
      ],
      "text/plain": [
       "                                           abilities  base_experience  \\\n",
       "0  [{'ability': {'name': 'overgrow', 'url': 'http...               64   \n",
       "\n",
       "                                               forms  \\\n",
       "0  [{'name': 'bulbasaur', 'url': 'https://pokeapi...   \n",
       "\n",
       "                                        game_indices  height held_items  id  \\\n",
       "0  [{'game_index': 153, 'version': {'name': 'red'...       7         []   1   \n",
       "\n",
       "   is_default                        location_area_encounters  \\\n",
       "0        True  https://pokeapi.co/api/v2/pokemon/1/encounters   \n",
       "\n",
       "                                               moves  ...  \\\n",
       "0  [{'move': {'name': 'razor-wind', 'url': 'https...  ...   \n",
       "\n",
       "      sprites.versions.generation-vi.x-y.front_shiny  \\\n",
       "0  https://raw.githubusercontent.com/PokeAPI/spri...   \n",
       "\n",
       "   sprites.versions.generation-vi.x-y.front_shiny_female  \\\n",
       "0                                               None       \n",
       "\n",
       "  sprites.versions.generation-vii.icons.front_default  \\\n",
       "0  https://raw.githubusercontent.com/PokeAPI/spri...    \n",
       "\n",
       "  sprites.versions.generation-vii.icons.front_female  \\\n",
       "0                                               None   \n",
       "\n",
       "  sprites.versions.generation-vii.ultra-sun-ultra-moon.front_default  \\\n",
       "0  https://raw.githubusercontent.com/PokeAPI/spri...                   \n",
       "\n",
       "   sprites.versions.generation-vii.ultra-sun-ultra-moon.front_female  \\\n",
       "0                                               None                   \n",
       "\n",
       "  sprites.versions.generation-vii.ultra-sun-ultra-moon.front_shiny  \\\n",
       "0  https://raw.githubusercontent.com/PokeAPI/spri...                 \n",
       "\n",
       "  sprites.versions.generation-vii.ultra-sun-ultra-moon.front_shiny_female  \\\n",
       "0                                               None                        \n",
       "\n",
       "  sprites.versions.generation-viii.icons.front_default  \\\n",
       "0  https://raw.githubusercontent.com/PokeAPI/spri...     \n",
       "\n",
       "  sprites.versions.generation-viii.icons.front_female  \n",
       "0                                               None   \n",
       "\n",
       "[1 rows x 115 columns]"
      ]
     },
     "execution_count": 11,
     "metadata": {},
     "output_type": "execute_result"
    }
   ],
   "source": [
    "df"
   ]
  },
  {
   "cell_type": "code",
   "execution_count": 25,
   "metadata": {},
   "outputs": [
    {
     "name": "stdout",
     "output_type": "stream",
     "text": [
      "{'name': 'bulbasaur', 'url': 'https://pokeapi.co/api/v2/pokemon-form/1/'}\n"
     ]
    }
   ],
   "source": [
    "print(df['forms'][0][0])"
   ]
  },
  {
   "cell_type": "code",
   "execution_count": 93,
   "metadata": {},
   "outputs": [
    {
     "name": "stderr",
     "output_type": "stream",
     "text": [
      "<ipython-input-93-46f296782bbe>:10: FutureWarning: pandas.io.json.json_normalize is deprecated, use pandas.json_normalize instead\n",
      "  flattened_data = json_normalize(results)\n"
     ]
    }
   ],
   "source": [
    "df=pd.DataFrame()\n",
    "\n",
    "\n",
    "for i in range(1,11):\n",
    "    url = f'https://pokeapi.co/api/v2/pokemon/{i}/'\n",
    "    response = requests.get(url)\n",
    "    results = response.json()\n",
    "    \n",
    "    \n",
    "    flattened_data = json_normalize(results)\n",
    "    #flattened_data = flattened_data.set_index('id')\n",
    "    df = df.append(flattened_data)"
   ]
  },
  {
   "cell_type": "code",
   "execution_count": null,
   "metadata": {},
   "outputs": [],
   "source": []
  },
  {
   "cell_type": "code",
   "execution_count": 94,
   "metadata": {},
   "outputs": [],
   "source": [
    "df.index = np.arange(1,len(df)+1)"
   ]
  },
  {
   "cell_type": "code",
   "execution_count": 109,
   "metadata": {},
   "outputs": [
    {
     "data": {
      "text/html": [
       "<div>\n",
       "<style scoped>\n",
       "    .dataframe tbody tr th:only-of-type {\n",
       "        vertical-align: middle;\n",
       "    }\n",
       "\n",
       "    .dataframe tbody tr th {\n",
       "        vertical-align: top;\n",
       "    }\n",
       "\n",
       "    .dataframe thead th {\n",
       "        text-align: right;\n",
       "    }\n",
       "</style>\n",
       "<table border=\"1\" class=\"dataframe\">\n",
       "  <thead>\n",
       "    <tr style=\"text-align: right;\">\n",
       "      <th></th>\n",
       "      <th>abilities</th>\n",
       "      <th>base_experience</th>\n",
       "      <th>forms</th>\n",
       "      <th>game_indices</th>\n",
       "      <th>height</th>\n",
       "      <th>held_items</th>\n",
       "      <th>id</th>\n",
       "      <th>is_default</th>\n",
       "      <th>location_area_encounters</th>\n",
       "      <th>moves</th>\n",
       "      <th>...</th>\n",
       "      <th>sprites.versions.generation-vi.x-y.front_shiny</th>\n",
       "      <th>sprites.versions.generation-vi.x-y.front_shiny_female</th>\n",
       "      <th>sprites.versions.generation-vii.icons.front_default</th>\n",
       "      <th>sprites.versions.generation-vii.icons.front_female</th>\n",
       "      <th>sprites.versions.generation-vii.ultra-sun-ultra-moon.front_default</th>\n",
       "      <th>sprites.versions.generation-vii.ultra-sun-ultra-moon.front_female</th>\n",
       "      <th>sprites.versions.generation-vii.ultra-sun-ultra-moon.front_shiny</th>\n",
       "      <th>sprites.versions.generation-vii.ultra-sun-ultra-moon.front_shiny_female</th>\n",
       "      <th>sprites.versions.generation-viii.icons.front_default</th>\n",
       "      <th>sprites.versions.generation-viii.icons.front_female</th>\n",
       "    </tr>\n",
       "  </thead>\n",
       "  <tbody>\n",
       "    <tr>\n",
       "      <th>1</th>\n",
       "      <td>[{'ability': {'name': 'overgrow', 'url': 'http...</td>\n",
       "      <td>64</td>\n",
       "      <td>[{'name': 'bulbasaur', 'url': 'https://pokeapi...</td>\n",
       "      <td>[{'game_index': 153, 'version': {'name': 'red'...</td>\n",
       "      <td>7</td>\n",
       "      <td>[]</td>\n",
       "      <td>1</td>\n",
       "      <td>True</td>\n",
       "      <td>https://pokeapi.co/api/v2/pokemon/1/encounters</td>\n",
       "      <td>[{'move': {'name': 'razor-wind', 'url': 'https...</td>\n",
       "      <td>...</td>\n",
       "      <td>https://raw.githubusercontent.com/PokeAPI/spri...</td>\n",
       "      <td>None</td>\n",
       "      <td>https://raw.githubusercontent.com/PokeAPI/spri...</td>\n",
       "      <td>None</td>\n",
       "      <td>https://raw.githubusercontent.com/PokeAPI/spri...</td>\n",
       "      <td>None</td>\n",
       "      <td>https://raw.githubusercontent.com/PokeAPI/spri...</td>\n",
       "      <td>None</td>\n",
       "      <td>https://raw.githubusercontent.com/PokeAPI/spri...</td>\n",
       "      <td>None</td>\n",
       "    </tr>\n",
       "    <tr>\n",
       "      <th>2</th>\n",
       "      <td>[{'ability': {'name': 'overgrow', 'url': 'http...</td>\n",
       "      <td>142</td>\n",
       "      <td>[{'name': 'ivysaur', 'url': 'https://pokeapi.c...</td>\n",
       "      <td>[{'game_index': 9, 'version': {'name': 'red', ...</td>\n",
       "      <td>10</td>\n",
       "      <td>[]</td>\n",
       "      <td>2</td>\n",
       "      <td>True</td>\n",
       "      <td>https://pokeapi.co/api/v2/pokemon/2/encounters</td>\n",
       "      <td>[{'move': {'name': 'swords-dance', 'url': 'htt...</td>\n",
       "      <td>...</td>\n",
       "      <td>https://raw.githubusercontent.com/PokeAPI/spri...</td>\n",
       "      <td>None</td>\n",
       "      <td>https://raw.githubusercontent.com/PokeAPI/spri...</td>\n",
       "      <td>None</td>\n",
       "      <td>https://raw.githubusercontent.com/PokeAPI/spri...</td>\n",
       "      <td>None</td>\n",
       "      <td>https://raw.githubusercontent.com/PokeAPI/spri...</td>\n",
       "      <td>None</td>\n",
       "      <td>https://raw.githubusercontent.com/PokeAPI/spri...</td>\n",
       "      <td>None</td>\n",
       "    </tr>\n",
       "    <tr>\n",
       "      <th>3</th>\n",
       "      <td>[{'ability': {'name': 'overgrow', 'url': 'http...</td>\n",
       "      <td>236</td>\n",
       "      <td>[{'name': 'venusaur', 'url': 'https://pokeapi....</td>\n",
       "      <td>[{'game_index': 154, 'version': {'name': 'red'...</td>\n",
       "      <td>20</td>\n",
       "      <td>[]</td>\n",
       "      <td>3</td>\n",
       "      <td>True</td>\n",
       "      <td>https://pokeapi.co/api/v2/pokemon/3/encounters</td>\n",
       "      <td>[{'move': {'name': 'swords-dance', 'url': 'htt...</td>\n",
       "      <td>...</td>\n",
       "      <td>https://raw.githubusercontent.com/PokeAPI/spri...</td>\n",
       "      <td>https://raw.githubusercontent.com/PokeAPI/spri...</td>\n",
       "      <td>https://raw.githubusercontent.com/PokeAPI/spri...</td>\n",
       "      <td>None</td>\n",
       "      <td>https://raw.githubusercontent.com/PokeAPI/spri...</td>\n",
       "      <td>https://raw.githubusercontent.com/PokeAPI/spri...</td>\n",
       "      <td>https://raw.githubusercontent.com/PokeAPI/spri...</td>\n",
       "      <td>https://raw.githubusercontent.com/PokeAPI/spri...</td>\n",
       "      <td>https://raw.githubusercontent.com/PokeAPI/spri...</td>\n",
       "      <td>None</td>\n",
       "    </tr>\n",
       "  </tbody>\n",
       "</table>\n",
       "<p>3 rows × 115 columns</p>\n",
       "</div>"
      ],
      "text/plain": [
       "                                           abilities  base_experience  \\\n",
       "1  [{'ability': {'name': 'overgrow', 'url': 'http...               64   \n",
       "2  [{'ability': {'name': 'overgrow', 'url': 'http...              142   \n",
       "3  [{'ability': {'name': 'overgrow', 'url': 'http...              236   \n",
       "\n",
       "                                               forms  \\\n",
       "1  [{'name': 'bulbasaur', 'url': 'https://pokeapi...   \n",
       "2  [{'name': 'ivysaur', 'url': 'https://pokeapi.c...   \n",
       "3  [{'name': 'venusaur', 'url': 'https://pokeapi....   \n",
       "\n",
       "                                        game_indices  height held_items  id  \\\n",
       "1  [{'game_index': 153, 'version': {'name': 'red'...       7         []   1   \n",
       "2  [{'game_index': 9, 'version': {'name': 'red', ...      10         []   2   \n",
       "3  [{'game_index': 154, 'version': {'name': 'red'...      20         []   3   \n",
       "\n",
       "   is_default                        location_area_encounters  \\\n",
       "1        True  https://pokeapi.co/api/v2/pokemon/1/encounters   \n",
       "2        True  https://pokeapi.co/api/v2/pokemon/2/encounters   \n",
       "3        True  https://pokeapi.co/api/v2/pokemon/3/encounters   \n",
       "\n",
       "                                               moves  ...  \\\n",
       "1  [{'move': {'name': 'razor-wind', 'url': 'https...  ...   \n",
       "2  [{'move': {'name': 'swords-dance', 'url': 'htt...  ...   \n",
       "3  [{'move': {'name': 'swords-dance', 'url': 'htt...  ...   \n",
       "\n",
       "      sprites.versions.generation-vi.x-y.front_shiny  \\\n",
       "1  https://raw.githubusercontent.com/PokeAPI/spri...   \n",
       "2  https://raw.githubusercontent.com/PokeAPI/spri...   \n",
       "3  https://raw.githubusercontent.com/PokeAPI/spri...   \n",
       "\n",
       "   sprites.versions.generation-vi.x-y.front_shiny_female  \\\n",
       "1                                               None       \n",
       "2                                               None       \n",
       "3  https://raw.githubusercontent.com/PokeAPI/spri...       \n",
       "\n",
       "  sprites.versions.generation-vii.icons.front_default  \\\n",
       "1  https://raw.githubusercontent.com/PokeAPI/spri...    \n",
       "2  https://raw.githubusercontent.com/PokeAPI/spri...    \n",
       "3  https://raw.githubusercontent.com/PokeAPI/spri...    \n",
       "\n",
       "  sprites.versions.generation-vii.icons.front_female  \\\n",
       "1                                               None   \n",
       "2                                               None   \n",
       "3                                               None   \n",
       "\n",
       "  sprites.versions.generation-vii.ultra-sun-ultra-moon.front_default  \\\n",
       "1  https://raw.githubusercontent.com/PokeAPI/spri...                   \n",
       "2  https://raw.githubusercontent.com/PokeAPI/spri...                   \n",
       "3  https://raw.githubusercontent.com/PokeAPI/spri...                   \n",
       "\n",
       "   sprites.versions.generation-vii.ultra-sun-ultra-moon.front_female  \\\n",
       "1                                               None                   \n",
       "2                                               None                   \n",
       "3  https://raw.githubusercontent.com/PokeAPI/spri...                   \n",
       "\n",
       "  sprites.versions.generation-vii.ultra-sun-ultra-moon.front_shiny  \\\n",
       "1  https://raw.githubusercontent.com/PokeAPI/spri...                 \n",
       "2  https://raw.githubusercontent.com/PokeAPI/spri...                 \n",
       "3  https://raw.githubusercontent.com/PokeAPI/spri...                 \n",
       "\n",
       "  sprites.versions.generation-vii.ultra-sun-ultra-moon.front_shiny_female  \\\n",
       "1                                               None                        \n",
       "2                                               None                        \n",
       "3  https://raw.githubusercontent.com/PokeAPI/spri...                        \n",
       "\n",
       "  sprites.versions.generation-viii.icons.front_default  \\\n",
       "1  https://raw.githubusercontent.com/PokeAPI/spri...     \n",
       "2  https://raw.githubusercontent.com/PokeAPI/spri...     \n",
       "3  https://raw.githubusercontent.com/PokeAPI/spri...     \n",
       "\n",
       "  sprites.versions.generation-viii.icons.front_female  \n",
       "1                                               None   \n",
       "2                                               None   \n",
       "3                                               None   \n",
       "\n",
       "[3 rows x 115 columns]"
      ]
     },
     "execution_count": 109,
     "metadata": {},
     "output_type": "execute_result"
    }
   ],
   "source": [
    "df.head(3)"
   ]
  },
  {
   "cell_type": "code",
   "execution_count": null,
   "metadata": {},
   "outputs": [],
   "source": []
  },
  {
   "cell_type": "code",
   "execution_count": 82,
   "metadata": {},
   "outputs": [],
   "source": [
    "nombres = [df['forms'][i][0]['name'] for i in range(1,11)]"
   ]
  },
  {
   "cell_type": "code",
   "execution_count": 83,
   "metadata": {},
   "outputs": [
    {
     "data": {
      "text/plain": [
       "['bulbasaur',\n",
       " 'ivysaur',\n",
       " 'venusaur',\n",
       " 'charmander',\n",
       " 'charmeleon',\n",
       " 'charizard',\n",
       " 'squirtle',\n",
       " 'wartortle',\n",
       " 'blastoise',\n",
       " 'caterpie']"
      ]
     },
     "execution_count": 83,
     "metadata": {},
     "output_type": "execute_result"
    }
   ],
   "source": [
    "nombres"
   ]
  },
  {
   "cell_type": "code",
   "execution_count": 143,
   "metadata": {},
   "outputs": [
    {
     "data": {
      "text/plain": [
       "[1, 2, 3, 4, 5, 6, 7, 8, 9, 10]"
      ]
     },
     "execution_count": 143,
     "metadata": {},
     "output_type": "execute_result"
    }
   ],
   "source": [
    "ids = [df['id'][i] for i in range(1,11)]\n",
    "ids"
   ]
  },
  {
   "cell_type": "code",
   "execution_count": 107,
   "metadata": {},
   "outputs": [],
   "source": [
    "#df['game_indices'][1]"
   ]
  },
  {
   "cell_type": "code",
   "execution_count": 115,
   "metadata": {},
   "outputs": [
    {
     "data": {
      "text/plain": [
       "['razor-wind',\n",
       " 'swords-dance',\n",
       " 'swords-dance',\n",
       " 'mega-punch',\n",
       " 'mega-punch',\n",
       " 'mega-punch',\n",
       " 'mega-punch',\n",
       " 'mega-punch',\n",
       " 'mega-punch',\n",
       " 'tackle']"
      ]
     },
     "execution_count": 115,
     "metadata": {},
     "output_type": "execute_result"
    }
   ],
   "source": [
    "attacks = [df['moves'][i][0]['move']['name'] for i in range(1,11)]\n",
    "attacks"
   ]
  },
  {
   "cell_type": "code",
   "execution_count": 118,
   "metadata": {},
   "outputs": [
    {
     "data": {
      "text/plain": [
       "{'name': 'razor-wind', 'url': 'https://pokeapi.co/api/v2/move/13/'}"
      ]
     },
     "execution_count": 118,
     "metadata": {},
     "output_type": "execute_result"
    }
   ],
   "source": [
    "df['moves'][1][0]['move']"
   ]
  },
  {
   "cell_type": "code",
   "execution_count": 129,
   "metadata": {},
   "outputs": [],
   "source": [
    "links_imagenes = [df['forms'][i][0]['url'] for i in range(1,11)]"
   ]
  },
  {
   "cell_type": "code",
   "execution_count": 130,
   "metadata": {},
   "outputs": [
    {
     "data": {
      "text/plain": [
       "['https://pokeapi.co/api/v2/pokemon-form/1/',\n",
       " 'https://pokeapi.co/api/v2/pokemon-form/2/',\n",
       " 'https://pokeapi.co/api/v2/pokemon-form/3/',\n",
       " 'https://pokeapi.co/api/v2/pokemon-form/4/',\n",
       " 'https://pokeapi.co/api/v2/pokemon-form/5/',\n",
       " 'https://pokeapi.co/api/v2/pokemon-form/6/',\n",
       " 'https://pokeapi.co/api/v2/pokemon-form/7/',\n",
       " 'https://pokeapi.co/api/v2/pokemon-form/8/',\n",
       " 'https://pokeapi.co/api/v2/pokemon-form/9/',\n",
       " 'https://pokeapi.co/api/v2/pokemon-form/10/']"
      ]
     },
     "execution_count": 130,
     "metadata": {},
     "output_type": "execute_result"
    }
   ],
   "source": [
    "links_imagenes"
   ]
  },
  {
   "cell_type": "code",
   "execution_count": 131,
   "metadata": {},
   "outputs": [
    {
     "name": "stderr",
     "output_type": "stream",
     "text": [
      "<ipython-input-131-c0c0f5943a9f>:10: FutureWarning: pandas.io.json.json_normalize is deprecated, use pandas.json_normalize instead\n",
      "  flattened_data2 = json_normalize(results)\n"
     ]
    }
   ],
   "source": [
    "df2=pd.DataFrame()\n",
    "\n",
    "\n",
    "for i in range(1,11):\n",
    "    url = f'https://pokeapi.co/api/v2/pokemon-form/{i}/'\n",
    "    response = requests.get(url)\n",
    "    results = response.json()\n",
    "    \n",
    "    \n",
    "    flattened_data2 = json_normalize(results)\n",
    "    \n",
    "    df2 = df2.append(flattened_data2)"
   ]
  },
  {
   "cell_type": "code",
   "execution_count": 135,
   "metadata": {},
   "outputs": [],
   "source": [
    "df2.index = np.arange(1,len(df)+1)"
   ]
  },
  {
   "cell_type": "code",
   "execution_count": 136,
   "metadata": {},
   "outputs": [
    {
     "data": {
      "text/html": [
       "<div>\n",
       "<style scoped>\n",
       "    .dataframe tbody tr th:only-of-type {\n",
       "        vertical-align: middle;\n",
       "    }\n",
       "\n",
       "    .dataframe tbody tr th {\n",
       "        vertical-align: top;\n",
       "    }\n",
       "\n",
       "    .dataframe thead th {\n",
       "        text-align: right;\n",
       "    }\n",
       "</style>\n",
       "<table border=\"1\" class=\"dataframe\">\n",
       "  <thead>\n",
       "    <tr style=\"text-align: right;\">\n",
       "      <th></th>\n",
       "      <th>form_name</th>\n",
       "      <th>form_names</th>\n",
       "      <th>form_order</th>\n",
       "      <th>id</th>\n",
       "      <th>is_battle_only</th>\n",
       "      <th>is_default</th>\n",
       "      <th>is_mega</th>\n",
       "      <th>name</th>\n",
       "      <th>names</th>\n",
       "      <th>order</th>\n",
       "      <th>...</th>\n",
       "      <th>sprites.back_default</th>\n",
       "      <th>sprites.back_female</th>\n",
       "      <th>sprites.back_shiny</th>\n",
       "      <th>sprites.back_shiny_female</th>\n",
       "      <th>sprites.front_default</th>\n",
       "      <th>sprites.front_female</th>\n",
       "      <th>sprites.front_shiny</th>\n",
       "      <th>sprites.front_shiny_female</th>\n",
       "      <th>version_group.name</th>\n",
       "      <th>version_group.url</th>\n",
       "    </tr>\n",
       "  </thead>\n",
       "  <tbody>\n",
       "    <tr>\n",
       "      <th>1</th>\n",
       "      <td></td>\n",
       "      <td>[]</td>\n",
       "      <td>1</td>\n",
       "      <td>1</td>\n",
       "      <td>False</td>\n",
       "      <td>True</td>\n",
       "      <td>False</td>\n",
       "      <td>bulbasaur</td>\n",
       "      <td>[]</td>\n",
       "      <td>1</td>\n",
       "      <td>...</td>\n",
       "      <td>https://raw.githubusercontent.com/PokeAPI/spri...</td>\n",
       "      <td>None</td>\n",
       "      <td>https://raw.githubusercontent.com/PokeAPI/spri...</td>\n",
       "      <td>None</td>\n",
       "      <td>https://raw.githubusercontent.com/PokeAPI/spri...</td>\n",
       "      <td>None</td>\n",
       "      <td>https://raw.githubusercontent.com/PokeAPI/spri...</td>\n",
       "      <td>None</td>\n",
       "      <td>red-blue</td>\n",
       "      <td>https://pokeapi.co/api/v2/version-group/1/</td>\n",
       "    </tr>\n",
       "    <tr>\n",
       "      <th>2</th>\n",
       "      <td></td>\n",
       "      <td>[]</td>\n",
       "      <td>1</td>\n",
       "      <td>2</td>\n",
       "      <td>False</td>\n",
       "      <td>True</td>\n",
       "      <td>False</td>\n",
       "      <td>ivysaur</td>\n",
       "      <td>[]</td>\n",
       "      <td>2</td>\n",
       "      <td>...</td>\n",
       "      <td>https://raw.githubusercontent.com/PokeAPI/spri...</td>\n",
       "      <td>None</td>\n",
       "      <td>https://raw.githubusercontent.com/PokeAPI/spri...</td>\n",
       "      <td>None</td>\n",
       "      <td>https://raw.githubusercontent.com/PokeAPI/spri...</td>\n",
       "      <td>None</td>\n",
       "      <td>https://raw.githubusercontent.com/PokeAPI/spri...</td>\n",
       "      <td>None</td>\n",
       "      <td>red-blue</td>\n",
       "      <td>https://pokeapi.co/api/v2/version-group/1/</td>\n",
       "    </tr>\n",
       "    <tr>\n",
       "      <th>3</th>\n",
       "      <td></td>\n",
       "      <td>[]</td>\n",
       "      <td>1</td>\n",
       "      <td>3</td>\n",
       "      <td>False</td>\n",
       "      <td>True</td>\n",
       "      <td>False</td>\n",
       "      <td>venusaur</td>\n",
       "      <td>[]</td>\n",
       "      <td>3</td>\n",
       "      <td>...</td>\n",
       "      <td>https://raw.githubusercontent.com/PokeAPI/spri...</td>\n",
       "      <td>https://raw.githubusercontent.com/PokeAPI/spri...</td>\n",
       "      <td>https://raw.githubusercontent.com/PokeAPI/spri...</td>\n",
       "      <td>https://raw.githubusercontent.com/PokeAPI/spri...</td>\n",
       "      <td>https://raw.githubusercontent.com/PokeAPI/spri...</td>\n",
       "      <td>https://raw.githubusercontent.com/PokeAPI/spri...</td>\n",
       "      <td>https://raw.githubusercontent.com/PokeAPI/spri...</td>\n",
       "      <td>https://raw.githubusercontent.com/PokeAPI/spri...</td>\n",
       "      <td>red-blue</td>\n",
       "      <td>https://pokeapi.co/api/v2/version-group/1/</td>\n",
       "    </tr>\n",
       "  </tbody>\n",
       "</table>\n",
       "<p>3 rows × 23 columns</p>\n",
       "</div>"
      ],
      "text/plain": [
       "  form_name form_names  form_order  id  is_battle_only  is_default  is_mega  \\\n",
       "1                   []           1   1           False        True    False   \n",
       "2                   []           1   2           False        True    False   \n",
       "3                   []           1   3           False        True    False   \n",
       "\n",
       "        name names  order  ...  \\\n",
       "1  bulbasaur    []      1  ...   \n",
       "2    ivysaur    []      2  ...   \n",
       "3   venusaur    []      3  ...   \n",
       "\n",
       "                                sprites.back_default  \\\n",
       "1  https://raw.githubusercontent.com/PokeAPI/spri...   \n",
       "2  https://raw.githubusercontent.com/PokeAPI/spri...   \n",
       "3  https://raw.githubusercontent.com/PokeAPI/spri...   \n",
       "\n",
       "                                 sprites.back_female  \\\n",
       "1                                               None   \n",
       "2                                               None   \n",
       "3  https://raw.githubusercontent.com/PokeAPI/spri...   \n",
       "\n",
       "                                  sprites.back_shiny  \\\n",
       "1  https://raw.githubusercontent.com/PokeAPI/spri...   \n",
       "2  https://raw.githubusercontent.com/PokeAPI/spri...   \n",
       "3  https://raw.githubusercontent.com/PokeAPI/spri...   \n",
       "\n",
       "                           sprites.back_shiny_female  \\\n",
       "1                                               None   \n",
       "2                                               None   \n",
       "3  https://raw.githubusercontent.com/PokeAPI/spri...   \n",
       "\n",
       "                               sprites.front_default  \\\n",
       "1  https://raw.githubusercontent.com/PokeAPI/spri...   \n",
       "2  https://raw.githubusercontent.com/PokeAPI/spri...   \n",
       "3  https://raw.githubusercontent.com/PokeAPI/spri...   \n",
       "\n",
       "                                sprites.front_female  \\\n",
       "1                                               None   \n",
       "2                                               None   \n",
       "3  https://raw.githubusercontent.com/PokeAPI/spri...   \n",
       "\n",
       "                                 sprites.front_shiny  \\\n",
       "1  https://raw.githubusercontent.com/PokeAPI/spri...   \n",
       "2  https://raw.githubusercontent.com/PokeAPI/spri...   \n",
       "3  https://raw.githubusercontent.com/PokeAPI/spri...   \n",
       "\n",
       "                          sprites.front_shiny_female version_group.name  \\\n",
       "1                                               None           red-blue   \n",
       "2                                               None           red-blue   \n",
       "3  https://raw.githubusercontent.com/PokeAPI/spri...           red-blue   \n",
       "\n",
       "                            version_group.url  \n",
       "1  https://pokeapi.co/api/v2/version-group/1/  \n",
       "2  https://pokeapi.co/api/v2/version-group/1/  \n",
       "3  https://pokeapi.co/api/v2/version-group/1/  \n",
       "\n",
       "[3 rows x 23 columns]"
      ]
     },
     "execution_count": 136,
     "metadata": {},
     "output_type": "execute_result"
    }
   ],
   "source": [
    "df2.head(3)"
   ]
  },
  {
   "cell_type": "code",
   "execution_count": 139,
   "metadata": {},
   "outputs": [
    {
     "data": {
      "text/plain": [
       "['https://raw.githubusercontent.com/PokeAPI/sprites/master/sprites/pokemon/back/1.png',\n",
       " 'https://raw.githubusercontent.com/PokeAPI/sprites/master/sprites/pokemon/back/2.png',\n",
       " 'https://raw.githubusercontent.com/PokeAPI/sprites/master/sprites/pokemon/back/3.png',\n",
       " 'https://raw.githubusercontent.com/PokeAPI/sprites/master/sprites/pokemon/back/4.png',\n",
       " 'https://raw.githubusercontent.com/PokeAPI/sprites/master/sprites/pokemon/back/5.png',\n",
       " 'https://raw.githubusercontent.com/PokeAPI/sprites/master/sprites/pokemon/back/6.png',\n",
       " 'https://raw.githubusercontent.com/PokeAPI/sprites/master/sprites/pokemon/back/7.png',\n",
       " 'https://raw.githubusercontent.com/PokeAPI/sprites/master/sprites/pokemon/back/8.png',\n",
       " 'https://raw.githubusercontent.com/PokeAPI/sprites/master/sprites/pokemon/back/9.png',\n",
       " 'https://raw.githubusercontent.com/PokeAPI/sprites/master/sprites/pokemon/back/10.png']"
      ]
     },
     "execution_count": 139,
     "metadata": {},
     "output_type": "execute_result"
    }
   ],
   "source": [
    "links_pictures = [df2['sprites.back_default'][i] for i in range(1,11)]\n",
    "links_pictures"
   ]
  },
  {
   "cell_type": "code",
   "execution_count": 146,
   "metadata": {},
   "outputs": [
    {
     "data": {
      "text/plain": [
       "{'ability': {'name': 'overgrow',\n",
       "  'url': 'https://pokeapi.co/api/v2/ability/65/'},\n",
       " 'is_hidden': False,\n",
       " 'slot': 1}"
      ]
     },
     "execution_count": 146,
     "metadata": {},
     "output_type": "execute_result"
    }
   ],
   "source": [
    "df['abilities'][1][0]"
   ]
  },
  {
   "cell_type": "code",
   "execution_count": 149,
   "metadata": {},
   "outputs": [
    {
     "data": {
      "text/plain": [
       "{'move': {'name': 'razor-wind', 'url': 'https://pokeapi.co/api/v2/move/13/'},\n",
       " 'version_group_details': [{'level_learned_at': 0,\n",
       "   'move_learn_method': {'name': 'egg',\n",
       "    'url': 'https://pokeapi.co/api/v2/move-learn-method/2/'},\n",
       "   'version_group': {'name': 'gold-silver',\n",
       "    'url': 'https://pokeapi.co/api/v2/version-group/3/'}},\n",
       "  {'level_learned_at': 0,\n",
       "   'move_learn_method': {'name': 'egg',\n",
       "    'url': 'https://pokeapi.co/api/v2/move-learn-method/2/'},\n",
       "   'version_group': {'name': 'crystal',\n",
       "    'url': 'https://pokeapi.co/api/v2/version-group/4/'}}]}"
      ]
     },
     "execution_count": 149,
     "metadata": {},
     "output_type": "execute_result"
    }
   ],
   "source": [
    "df['moves'][1][0]"
   ]
  },
  {
   "cell_type": "code",
   "execution_count": 150,
   "metadata": {},
   "outputs": [
    {
     "data": {
      "text/plain": [
       "{'move': {'name': 'swords-dance', 'url': 'https://pokeapi.co/api/v2/move/14/'},\n",
       " 'version_group_details': [{'level_learned_at': 0,\n",
       "   'move_learn_method': {'name': 'machine',\n",
       "    'url': 'https://pokeapi.co/api/v2/move-learn-method/4/'},\n",
       "   'version_group': {'name': 'red-blue',\n",
       "    'url': 'https://pokeapi.co/api/v2/version-group/1/'}},\n",
       "  {'level_learned_at': 0,\n",
       "   'move_learn_method': {'name': 'machine',\n",
       "    'url': 'https://pokeapi.co/api/v2/move-learn-method/4/'},\n",
       "   'version_group': {'name': 'yellow',\n",
       "    'url': 'https://pokeapi.co/api/v2/version-group/2/'}},\n",
       "  {'level_learned_at': 0,\n",
       "   'move_learn_method': {'name': 'tutor',\n",
       "    'url': 'https://pokeapi.co/api/v2/move-learn-method/3/'},\n",
       "   'version_group': {'name': 'emerald',\n",
       "    'url': 'https://pokeapi.co/api/v2/version-group/6/'}},\n",
       "  {'level_learned_at': 0,\n",
       "   'move_learn_method': {'name': 'tutor',\n",
       "    'url': 'https://pokeapi.co/api/v2/move-learn-method/3/'},\n",
       "   'version_group': {'name': 'firered-leafgreen',\n",
       "    'url': 'https://pokeapi.co/api/v2/version-group/7/'}},\n",
       "  {'level_learned_at': 0,\n",
       "   'move_learn_method': {'name': 'machine',\n",
       "    'url': 'https://pokeapi.co/api/v2/move-learn-method/4/'},\n",
       "   'version_group': {'name': 'diamond-pearl',\n",
       "    'url': 'https://pokeapi.co/api/v2/version-group/8/'}},\n",
       "  {'level_learned_at': 0,\n",
       "   'move_learn_method': {'name': 'machine',\n",
       "    'url': 'https://pokeapi.co/api/v2/move-learn-method/4/'},\n",
       "   'version_group': {'name': 'platinum',\n",
       "    'url': 'https://pokeapi.co/api/v2/version-group/9/'}},\n",
       "  {'level_learned_at': 0,\n",
       "   'move_learn_method': {'name': 'machine',\n",
       "    'url': 'https://pokeapi.co/api/v2/move-learn-method/4/'},\n",
       "   'version_group': {'name': 'heartgold-soulsilver',\n",
       "    'url': 'https://pokeapi.co/api/v2/version-group/10/'}},\n",
       "  {'level_learned_at': 0,\n",
       "   'move_learn_method': {'name': 'machine',\n",
       "    'url': 'https://pokeapi.co/api/v2/move-learn-method/4/'},\n",
       "   'version_group': {'name': 'black-white',\n",
       "    'url': 'https://pokeapi.co/api/v2/version-group/11/'}},\n",
       "  {'level_learned_at': 0,\n",
       "   'move_learn_method': {'name': 'machine',\n",
       "    'url': 'https://pokeapi.co/api/v2/move-learn-method/4/'},\n",
       "   'version_group': {'name': 'black-2-white-2',\n",
       "    'url': 'https://pokeapi.co/api/v2/version-group/14/'}},\n",
       "  {'level_learned_at': 0,\n",
       "   'move_learn_method': {'name': 'machine',\n",
       "    'url': 'https://pokeapi.co/api/v2/move-learn-method/4/'},\n",
       "   'version_group': {'name': 'x-y',\n",
       "    'url': 'https://pokeapi.co/api/v2/version-group/15/'}},\n",
       "  {'level_learned_at': 0,\n",
       "   'move_learn_method': {'name': 'machine',\n",
       "    'url': 'https://pokeapi.co/api/v2/move-learn-method/4/'},\n",
       "   'version_group': {'name': 'omega-ruby-alpha-sapphire',\n",
       "    'url': 'https://pokeapi.co/api/v2/version-group/16/'}},\n",
       "  {'level_learned_at': 0,\n",
       "   'move_learn_method': {'name': 'machine',\n",
       "    'url': 'https://pokeapi.co/api/v2/move-learn-method/4/'},\n",
       "   'version_group': {'name': 'sun-moon',\n",
       "    'url': 'https://pokeapi.co/api/v2/version-group/17/'}},\n",
       "  {'level_learned_at': 0,\n",
       "   'move_learn_method': {'name': 'machine',\n",
       "    'url': 'https://pokeapi.co/api/v2/move-learn-method/4/'},\n",
       "   'version_group': {'name': 'ultra-sun-ultra-moon',\n",
       "    'url': 'https://pokeapi.co/api/v2/version-group/18/'}}]}"
      ]
     },
     "execution_count": 150,
     "metadata": {},
     "output_type": "execute_result"
    }
   ],
   "source": [
    "df['moves'][1][1]"
   ]
  }
 ],
 "metadata": {
  "kernelspec": {
   "display_name": "Python 3",
   "language": "python",
   "name": "python3"
  },
  "language_info": {
   "codemirror_mode": {
    "name": "ipython",
    "version": 3
   },
   "file_extension": ".py",
   "mimetype": "text/x-python",
   "name": "python",
   "nbconvert_exporter": "python",
   "pygments_lexer": "ipython3",
   "version": "3.8.5"
  }
 },
 "nbformat": 4,
 "nbformat_minor": 4
}
